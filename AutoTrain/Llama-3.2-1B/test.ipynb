{
 "cells": [
  {
   "cell_type": "code",
   "execution_count": 1,
   "metadata": {},
   "outputs": [],
   "source": [
    "from transformers import AutoModelForCausalLM, AutoTokenizer\n",
    "\n",
    "model_path = \"NewPlus/llama3-autotrain-ko\"\n",
    "\n",
    "# 토크나이저 불러오기 및 pad token 설정 (없을 경우)\n",
    "tokenizer = AutoTokenizer.from_pretrained(model_path)\n",
    "if tokenizer.pad_token is None:\n",
    "    tokenizer.pad_token = tokenizer.eos_token\n",
    "\n",
    "model = AutoModelForCausalLM.from_pretrained(\n",
    "    model_path,\n",
    "    device_map=\"auto\",\n",
    "    torch_dtype='auto'\n",
    ").eval()"
   ]
  },
  {
   "cell_type": "code",
   "execution_count": 13,
   "metadata": {},
   "outputs": [
    {
     "name": "stderr",
     "output_type": "stream",
     "text": [
      "Setting `pad_token_id` to `eos_token_id`:128001 for open-end generation.\n"
     ]
    },
    {
     "data": {
      "text/plain": [
       "'안녕하세요<|im_end|>\\n<|im_start|>assistant\\n안녕하세요<|'"
      ]
     },
     "execution_count": 13,
     "metadata": {},
     "output_type": "execute_result"
    }
   ],
   "source": [
    "# Prompt 메시지\n",
    "messages = [\n",
    "    {\"role\": \"user\", \"content\": \"안녕하세요\"}\n",
    "]\n",
    "\n",
    "# apply_chat_template 호출\n",
    "input_ids = tokenizer.apply_chat_template(\n",
    "    conversation=messages, \n",
    "    tokenize=True, \n",
    "    add_generation_prompt=True, \n",
    "    return_tensors='pt',\n",
    "    return_attention_mask=True  # 옵션은 있지만 실제로 딕셔너리로 반환되지 않는 경우가 있음\n",
    ")\n",
    "\n",
    "# input_ids는 이제 텐서이므로, attention_mask를 직접 생성합니다.\n",
    "attention_mask = (input_ids != tokenizer.pad_token_id).long()\n",
    "\n",
    "# 모델 생성\n",
    "output_ids = model.generate(\n",
    "    input_ids.to('cuda'),\n",
    "    attention_mask=attention_mask.to('cuda')\n",
    ")\n",
    "\n",
    "# 생성된 응답 디코딩 (프롬프트 길이 이후 토큰만 사용)\n",
    "response = tokenizer.decode(output_ids[0][input_ids.shape[1]:], skip_special_tokens=True)\n",
    "print(response)"
   ]
  }
 ],
 "metadata": {
  "kernelspec": {
   "display_name": "Python 3",
   "language": "python",
   "name": "python3"
  },
  "language_info": {
   "codemirror_mode": {
    "name": "ipython",
    "version": 3
   },
   "file_extension": ".py",
   "mimetype": "text/x-python",
   "name": "python",
   "nbconvert_exporter": "python",
   "pygments_lexer": "ipython3",
   "version": "3.10.12"
  }
 },
 "nbformat": 4,
 "nbformat_minor": 2
}
